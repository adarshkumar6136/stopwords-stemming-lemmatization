{
 "cells": [
  {
   "cell_type": "code",
   "execution_count": 18,
   "id": "14200511",
   "metadata": {},
   "outputs": [],
   "source": [
    "#stopwords---are very common words appear in sentences.\n",
    "#words like is ,we ,are,have,etc.\n",
    "#These words do not help in NLP tasks --e.g. in sentiment analysis or text.\n",
    "#classification,these words are not significant"
   ]
  },
  {
   "cell_type": "markdown",
   "id": "cb7a03cc",
   "metadata": {},
   "source": [
    "#remove these stopwords to save computing time and your efforts in processing when the text data is huge"
   ]
  },
  {
   "cell_type": "code",
   "execution_count": 1,
   "id": "88a856b9",
   "metadata": {},
   "outputs": [],
   "source": [
    "from nltk.tokenize import word_tokenize"
   ]
  },
  {
   "cell_type": "code",
   "execution_count": 2,
   "id": "c7f291d1",
   "metadata": {},
   "outputs": [],
   "source": [
    "import nltk"
   ]
  },
  {
   "cell_type": "code",
   "execution_count": 3,
   "id": "df75bbe6",
   "metadata": {},
   "outputs": [
    {
     "name": "stderr",
     "output_type": "stream",
     "text": [
      "[nltk_data] Downloading package stopwords to\n",
      "[nltk_data]     C:\\Users\\DELL\\AppData\\Roaming\\nltk_data...\n",
      "[nltk_data]   Package stopwords is already up-to-date!\n"
     ]
    },
    {
     "data": {
      "text/plain": [
       "True"
      ]
     },
     "execution_count": 3,
     "metadata": {},
     "output_type": "execute_result"
    }
   ],
   "source": [
    "nltk.download('stopwords')"
   ]
  },
  {
   "cell_type": "code",
   "execution_count": 4,
   "id": "f92d01a8",
   "metadata": {},
   "outputs": [],
   "source": [
    "from nltk.corpus import stopwords"
   ]
  },
  {
   "cell_type": "code",
   "execution_count": 14,
   "id": "deccefc2",
   "metadata": {},
   "outputs": [],
   "source": [
    "msg='apple is interested to open a development center in india'"
   ]
  },
  {
   "cell_type": "code",
   "execution_count": 15,
   "id": "e918c6b0",
   "metadata": {},
   "outputs": [
    {
     "data": {
      "text/plain": [
       "['apple', 'interested', 'open', 'development', 'center', 'india']"
      ]
     },
     "execution_count": 15,
     "metadata": {},
     "output_type": "execute_result"
    }
   ],
   "source": [
    "tokens=word_tokenize(msg)\n",
    "sw=set(stopwords.words('english'))\n",
    "[w for w in tokens if not w in sw]"
   ]
  },
  {
   "cell_type": "code",
   "execution_count": 16,
   "id": "77580426",
   "metadata": {},
   "outputs": [
    {
     "name": "stderr",
     "output_type": "stream",
     "text": [
      "[nltk_data] Downloading package punkt to\n",
      "[nltk_data]     C:\\Users\\DELL\\AppData\\Roaming\\nltk_data...\n",
      "[nltk_data]   Package punkt is already up-to-date!\n"
     ]
    },
    {
     "data": {
      "text/plain": [
       "True"
      ]
     },
     "execution_count": 16,
     "metadata": {},
     "output_type": "execute_result"
    }
   ],
   "source": [
    "nltk.download('punkt')"
   ]
  },
  {
   "cell_type": "markdown",
   "id": "8d9366a1",
   "metadata": {},
   "source": [
    "bigrams--tokens of two consesecutive written words"
   ]
  },
  {
   "cell_type": "markdown",
   "id": "d930b9a6",
   "metadata": {},
   "source": [
    "trigrams--tokens of three consecutive written words"
   ]
  },
  {
   "cell_type": "markdown",
   "id": "9ff8face",
   "metadata": {},
   "source": [
    "ngrams--tokens of n consecutive written words"
   ]
  },
  {
   "cell_type": "code",
   "execution_count": 19,
   "id": "0f4fbe10",
   "metadata": {},
   "outputs": [],
   "source": [
    "s='the most beautiful things in the world cannot be seen or touched.They must be felt with heart'"
   ]
  },
  {
   "cell_type": "code",
   "execution_count": 20,
   "id": "6489fab6",
   "metadata": {},
   "outputs": [],
   "source": [
    "from nltk.util import bigrams,trigrams,ngrams"
   ]
  },
  {
   "cell_type": "code",
   "execution_count": 21,
   "id": "466276a5",
   "metadata": {},
   "outputs": [],
   "source": [
    "tokens=word_tokenize(s)"
   ]
  },
  {
   "cell_type": "code",
   "execution_count": 22,
   "id": "c712a2d2",
   "metadata": {},
   "outputs": [
    {
     "data": {
      "text/plain": [
       "18"
      ]
     },
     "execution_count": 22,
     "metadata": {},
     "output_type": "execute_result"
    }
   ],
   "source": [
    "len(tokens)"
   ]
  },
  {
   "cell_type": "code",
   "execution_count": 23,
   "id": "b179986b",
   "metadata": {},
   "outputs": [],
   "source": [
    "s_bigrams=list(bigrams(tokens))"
   ]
  },
  {
   "cell_type": "code",
   "execution_count": 24,
   "id": "3f6489bf",
   "metadata": {},
   "outputs": [
    {
     "data": {
      "text/plain": [
       "[('the', 'most'),\n",
       " ('most', 'beautiful'),\n",
       " ('beautiful', 'things'),\n",
       " ('things', 'in'),\n",
       " ('in', 'the'),\n",
       " ('the', 'world'),\n",
       " ('world', 'can'),\n",
       " ('can', 'not'),\n",
       " ('not', 'be'),\n",
       " ('be', 'seen'),\n",
       " ('seen', 'or'),\n",
       " ('or', 'touched.They'),\n",
       " ('touched.They', 'must'),\n",
       " ('must', 'be'),\n",
       " ('be', 'felt'),\n",
       " ('felt', 'with'),\n",
       " ('with', 'heart')]"
      ]
     },
     "execution_count": 24,
     "metadata": {},
     "output_type": "execute_result"
    }
   ],
   "source": [
    "s_bigrams"
   ]
  },
  {
   "cell_type": "code",
   "execution_count": 25,
   "id": "75c551d0",
   "metadata": {},
   "outputs": [
    {
     "data": {
      "text/plain": [
       "[('the', 'most', 'beautiful'),\n",
       " ('most', 'beautiful', 'things'),\n",
       " ('beautiful', 'things', 'in'),\n",
       " ('things', 'in', 'the'),\n",
       " ('in', 'the', 'world'),\n",
       " ('the', 'world', 'can'),\n",
       " ('world', 'can', 'not'),\n",
       " ('can', 'not', 'be'),\n",
       " ('not', 'be', 'seen'),\n",
       " ('be', 'seen', 'or'),\n",
       " ('seen', 'or', 'touched.They'),\n",
       " ('or', 'touched.They', 'must'),\n",
       " ('touched.They', 'must', 'be'),\n",
       " ('must', 'be', 'felt'),\n",
       " ('be', 'felt', 'with'),\n",
       " ('felt', 'with', 'heart')]"
      ]
     },
     "execution_count": 25,
     "metadata": {},
     "output_type": "execute_result"
    }
   ],
   "source": [
    "tri_grams=list(trigrams(tokens))\n",
    "tri_grams"
   ]
  },
  {
   "cell_type": "code",
   "execution_count": 26,
   "id": "c006395c",
   "metadata": {},
   "outputs": [
    {
     "data": {
      "text/plain": [
       "[('the', 'most', 'beautiful', 'things', 'in'),\n",
       " ('most', 'beautiful', 'things', 'in', 'the'),\n",
       " ('beautiful', 'things', 'in', 'the', 'world'),\n",
       " ('things', 'in', 'the', 'world', 'can'),\n",
       " ('in', 'the', 'world', 'can', 'not'),\n",
       " ('the', 'world', 'can', 'not', 'be'),\n",
       " ('world', 'can', 'not', 'be', 'seen'),\n",
       " ('can', 'not', 'be', 'seen', 'or'),\n",
       " ('not', 'be', 'seen', 'or', 'touched.They'),\n",
       " ('be', 'seen', 'or', 'touched.They', 'must'),\n",
       " ('seen', 'or', 'touched.They', 'must', 'be'),\n",
       " ('or', 'touched.They', 'must', 'be', 'felt'),\n",
       " ('touched.They', 'must', 'be', 'felt', 'with'),\n",
       " ('must', 'be', 'felt', 'with', 'heart')]"
      ]
     },
     "execution_count": 26,
     "metadata": {},
     "output_type": "execute_result"
    }
   ],
   "source": [
    "n_grams=list(ngrams(tokens,5))\n",
    "n_grams"
   ]
  },
  {
   "cell_type": "code",
   "execution_count": null,
   "id": "ae7d5d84",
   "metadata": {},
   "outputs": [],
   "source": [
    "#stemming ---a process of reducing infected words to their word stem\n",
    "#--Normalising the words into its base forms"
   ]
  },
  {
   "cell_type": "markdown",
   "id": "eaa4503d",
   "metadata": {},
   "source": [
    "affected,affecting,affection,affect-->affect"
   ]
  },
  {
   "cell_type": "markdown",
   "id": "b868394c",
   "metadata": {},
   "source": [
    "history,historical-->\n"
   ]
  },
  {
   "cell_type": "markdown",
   "id": "f125ffc6",
   "metadata": {},
   "source": [
    "finally,final,finalised--->final\n"
   ]
  },
  {
   "cell_type": "markdown",
   "id": "91360765",
   "metadata": {},
   "source": [
    "going ,goes,gone-->go"
   ]
  },
  {
   "cell_type": "code",
   "execution_count": 28,
   "id": "53439855",
   "metadata": {},
   "outputs": [],
   "source": [
    "from nltk.stem import PorterStemmer,LancasterStemmer"
   ]
  },
  {
   "cell_type": "code",
   "execution_count": 29,
   "id": "d0e943d2",
   "metadata": {},
   "outputs": [
    {
     "data": {
      "text/plain": [
       "'go'"
      ]
     },
     "execution_count": 29,
     "metadata": {},
     "output_type": "execute_result"
    }
   ],
   "source": [
    "pstem=PorterStemmer()\n",
    "pstem.stem('going')"
   ]
  },
  {
   "cell_type": "code",
   "execution_count": 30,
   "id": "e00eae4d",
   "metadata": {},
   "outputs": [
    {
     "data": {
      "text/plain": [
       "'goe'"
      ]
     },
     "execution_count": 30,
     "metadata": {},
     "output_type": "execute_result"
    }
   ],
   "source": [
    "pstem.stem('goes')"
   ]
  },
  {
   "cell_type": "code",
   "execution_count": 31,
   "id": "49c97ae7",
   "metadata": {},
   "outputs": [
    {
     "data": {
      "text/plain": [
       "'gone'"
      ]
     },
     "execution_count": 31,
     "metadata": {},
     "output_type": "execute_result"
    }
   ],
   "source": [
    "pstem.stem('gone')"
   ]
  },
  {
   "cell_type": "code",
   "execution_count": 32,
   "id": "e9f00181",
   "metadata": {},
   "outputs": [
    {
     "data": {
      "text/plain": [
       "'histori'"
      ]
     },
     "execution_count": 32,
     "metadata": {},
     "output_type": "execute_result"
    }
   ],
   "source": [
    "pstem.stem('history')"
   ]
  },
  {
   "cell_type": "code",
   "execution_count": 33,
   "id": "7dbcb096",
   "metadata": {},
   "outputs": [
    {
     "data": {
      "text/plain": [
       "'histor'"
      ]
     },
     "execution_count": 33,
     "metadata": {},
     "output_type": "execute_result"
    }
   ],
   "source": [
    "pstem.stem('historical')"
   ]
  },
  {
   "cell_type": "code",
   "execution_count": 34,
   "id": "c2f9653e",
   "metadata": {},
   "outputs": [],
   "source": [
    "#for some of the words stemming doesnt give a meaning word."
   ]
  },
  {
   "cell_type": "code",
   "execution_count": 36,
   "id": "df1d7f0e",
   "metadata": {},
   "outputs": [
    {
     "name": "stdout",
     "output_type": "stream",
     "text": [
      "give : give\n",
      "giving : give\n",
      "gave : gave\n",
      "given : given\n"
     ]
    }
   ],
   "source": [
    "words=['give','giving','gave','given']\n",
    "for w in words:\n",
    "    print(w,':',pstem.stem(w))"
   ]
  },
  {
   "cell_type": "code",
   "execution_count": 37,
   "id": "2c170730",
   "metadata": {},
   "outputs": [],
   "source": [
    "lstem=LancasterStemmer()"
   ]
  },
  {
   "cell_type": "code",
   "execution_count": 38,
   "id": "3b37d110",
   "metadata": {},
   "outputs": [
    {
     "name": "stdout",
     "output_type": "stream",
     "text": [
      "give : giv\n",
      "giving : giv\n",
      "gave : gav\n",
      "given : giv\n"
     ]
    }
   ],
   "source": [
    "words=['give','giving','gave','given']\n",
    "for w in words:\n",
    "    print(w,':',lstem.stem(w))"
   ]
  },
  {
   "cell_type": "code",
   "execution_count": 39,
   "id": "6ad6643c",
   "metadata": {},
   "outputs": [],
   "source": [
    "#Lemmatisation"
   ]
  },
  {
   "cell_type": "code",
   "execution_count": 41,
   "id": "0578b200",
   "metadata": {},
   "outputs": [],
   "source": [
    "from nltk.stem import WordNetLemmatizer,wordnet"
   ]
  },
  {
   "cell_type": "code",
   "execution_count": 42,
   "id": "a0a97e6f",
   "metadata": {},
   "outputs": [],
   "source": [
    "word_len=WordNetLemmatizer()"
   ]
  },
  {
   "cell_type": "code",
   "execution_count": 48,
   "id": "816f8c57",
   "metadata": {},
   "outputs": [
    {
     "data": {
      "text/plain": [
       "'corpus'"
      ]
     },
     "execution_count": 48,
     "metadata": {},
     "output_type": "execute_result"
    }
   ],
   "source": [
    "word_len.lemmatize('corpora')"
   ]
  },
  {
   "cell_type": "code",
   "execution_count": 44,
   "id": "6e439f72",
   "metadata": {},
   "outputs": [
    {
     "name": "stderr",
     "output_type": "stream",
     "text": [
      "[nltk_data] Downloading package wordnet to\n",
      "[nltk_data]     C:\\Users\\DELL\\AppData\\Roaming\\nltk_data...\n"
     ]
    },
    {
     "data": {
      "text/plain": [
       "True"
      ]
     },
     "execution_count": 44,
     "metadata": {},
     "output_type": "execute_result"
    }
   ],
   "source": [
    "nltk.download('wordnet')"
   ]
  },
  {
   "cell_type": "code",
   "execution_count": 47,
   "id": "7c13a62b",
   "metadata": {},
   "outputs": [
    {
     "name": "stderr",
     "output_type": "stream",
     "text": [
      "[nltk_data] Downloading package omw-1.4 to\n",
      "[nltk_data]     C:\\Users\\DELL\\AppData\\Roaming\\nltk_data...\n",
      "[nltk_data]   Package omw-1.4 is already up-to-date!\n"
     ]
    },
    {
     "data": {
      "text/plain": [
       "True"
      ]
     },
     "execution_count": 47,
     "metadata": {},
     "output_type": "execute_result"
    }
   ],
   "source": [
    "nltk.download('omw-1.4')"
   ]
  },
  {
   "cell_type": "code",
   "execution_count": 49,
   "id": "50ed2fb1",
   "metadata": {},
   "outputs": [],
   "source": [
    "from nltk.corpus import wordnet\n",
    "syns=wordnet.synsets('program')"
   ]
  },
  {
   "cell_type": "code",
   "execution_count": 50,
   "id": "57b5bb52",
   "metadata": {},
   "outputs": [
    {
     "data": {
      "text/plain": [
       "[Synset('plan.n.01'),\n",
       " Synset('program.n.02'),\n",
       " Synset('broadcast.n.02'),\n",
       " Synset('platform.n.02'),\n",
       " Synset('program.n.05'),\n",
       " Synset('course_of_study.n.01'),\n",
       " Synset('program.n.07'),\n",
       " Synset('program.n.08'),\n",
       " Synset('program.v.01'),\n",
       " Synset('program.v.02')]"
      ]
     },
     "execution_count": 50,
     "metadata": {},
     "output_type": "execute_result"
    }
   ],
   "source": [
    "syns"
   ]
  },
  {
   "cell_type": "code",
   "execution_count": 51,
   "id": "39e6af00",
   "metadata": {},
   "outputs": [
    {
     "data": {
      "text/plain": [
       "'broadcast'"
      ]
     },
     "execution_count": 51,
     "metadata": {},
     "output_type": "execute_result"
    }
   ],
   "source": [
    "syns[2].lemmas()[0].name()"
   ]
  },
  {
   "cell_type": "code",
   "execution_count": 52,
   "id": "9d873104",
   "metadata": {},
   "outputs": [
    {
     "data": {
      "text/plain": [
       "'a system of projects or services intended to meet a public need'"
      ]
     },
     "execution_count": 52,
     "metadata": {},
     "output_type": "execute_result"
    }
   ],
   "source": [
    "syns[1].definition()"
   ]
  },
  {
   "cell_type": "code",
   "execution_count": 53,
   "id": "baa64191",
   "metadata": {},
   "outputs": [
    {
     "data": {
      "text/plain": [
       "[Synset('talk.v.02'),\n",
       " Synset('talk.v.01'),\n",
       " Synset('speak.v.03'),\n",
       " Synset('address.v.02'),\n",
       " Synset('speak.v.05'),\n",
       " Synset('spoken.a.01')]"
      ]
     },
     "execution_count": 53,
     "metadata": {},
     "output_type": "execute_result"
    }
   ],
   "source": [
    "wordnet.synsets('spoken')"
   ]
  },
  {
   "cell_type": "code",
   "execution_count": 54,
   "id": "56ec9559",
   "metadata": {},
   "outputs": [
    {
     "data": {
      "text/plain": [
       "'given'"
      ]
     },
     "execution_count": 54,
     "metadata": {},
     "output_type": "execute_result"
    }
   ],
   "source": [
    "word_len.lemmatize('given')"
   ]
  },
  {
   "cell_type": "code",
   "execution_count": 55,
   "id": "5afe660f",
   "metadata": {},
   "outputs": [
    {
     "data": {
      "text/plain": [
       "'gave'"
      ]
     },
     "execution_count": 55,
     "metadata": {},
     "output_type": "execute_result"
    }
   ],
   "source": [
    "word_len.lemmatize('gave')"
   ]
  },
  {
   "cell_type": "code",
   "execution_count": 56,
   "id": "1611c49f",
   "metadata": {},
   "outputs": [
    {
     "data": {
      "text/plain": [
       "'a series of steps to be carried out or goals to be accomplished'"
      ]
     },
     "execution_count": 56,
     "metadata": {},
     "output_type": "execute_result"
    }
   ],
   "source": [
    "syns[0].definition()"
   ]
  },
  {
   "cell_type": "code",
   "execution_count": 57,
   "id": "fe5544af",
   "metadata": {},
   "outputs": [
    {
     "data": {
      "text/plain": [
       "'plan'"
      ]
     },
     "execution_count": 57,
     "metadata": {},
     "output_type": "execute_result"
    }
   ],
   "source": [
    "syns[0].lemmas()[0].name()"
   ]
  },
  {
   "cell_type": "code",
   "execution_count": 58,
   "id": "52a3ad0d",
   "metadata": {},
   "outputs": [
    {
     "data": {
      "text/plain": [
       "['they drew up a six-step plan', 'they discussed plans for a new bond issue']"
      ]
     },
     "execution_count": 58,
     "metadata": {},
     "output_type": "execute_result"
    }
   ],
   "source": [
    "syns[0].examples()"
   ]
  },
  {
   "cell_type": "code",
   "execution_count": 63,
   "id": "594ac8f2",
   "metadata": {},
   "outputs": [
    {
     "data": {
      "text/plain": [
       "['evil', 'evilness', 'bad', 'badness', 'bad', 'evil', 'ill']"
      ]
     },
     "execution_count": 63,
     "metadata": {},
     "output_type": "execute_result"
    }
   ],
   "source": [
    "s=[]\n",
    "a=[]\n",
    "\n",
    "for syn in wordnet.synsets('good'):\n",
    "    for l in syn.lemmas():\n",
    "        s.append(l.name())\n",
    "        if l.antonyms():\n",
    "            a.append(l.antonyms()[0].name())\n",
    "a\n"
   ]
  },
  {
   "cell_type": "code",
   "execution_count": 64,
   "id": "b2c61ead",
   "metadata": {},
   "outputs": [
    {
     "data": {
      "text/plain": [
       "['good',\n",
       " 'good',\n",
       " 'goodness',\n",
       " 'good',\n",
       " 'goodness',\n",
       " 'commodity',\n",
       " 'trade_good',\n",
       " 'good',\n",
       " 'good',\n",
       " 'full',\n",
       " 'good',\n",
       " 'good',\n",
       " 'estimable',\n",
       " 'good',\n",
       " 'honorable',\n",
       " 'respectable',\n",
       " 'beneficial',\n",
       " 'good',\n",
       " 'good',\n",
       " 'good',\n",
       " 'just',\n",
       " 'upright',\n",
       " 'adept',\n",
       " 'expert',\n",
       " 'good',\n",
       " 'practiced',\n",
       " 'proficient',\n",
       " 'skillful',\n",
       " 'skilful',\n",
       " 'good',\n",
       " 'dear',\n",
       " 'good',\n",
       " 'near',\n",
       " 'dependable',\n",
       " 'good',\n",
       " 'safe',\n",
       " 'secure',\n",
       " 'good',\n",
       " 'right',\n",
       " 'ripe',\n",
       " 'good',\n",
       " 'well',\n",
       " 'effective',\n",
       " 'good',\n",
       " 'in_effect',\n",
       " 'in_force',\n",
       " 'good',\n",
       " 'good',\n",
       " 'serious',\n",
       " 'good',\n",
       " 'sound',\n",
       " 'good',\n",
       " 'salutary',\n",
       " 'good',\n",
       " 'honest',\n",
       " 'good',\n",
       " 'undecomposed',\n",
       " 'unspoiled',\n",
       " 'unspoilt',\n",
       " 'good',\n",
       " 'well',\n",
       " 'good',\n",
       " 'thoroughly',\n",
       " 'soundly',\n",
       " 'good']"
      ]
     },
     "execution_count": 64,
     "metadata": {},
     "output_type": "execute_result"
    }
   ],
   "source": [
    "s"
   ]
  },
  {
   "cell_type": "code",
   "execution_count": 74,
   "id": "35113f68",
   "metadata": {},
   "outputs": [],
   "source": [
    "w1=wordnet.synset('ship.n.01')\n",
    "w2=wordnet.synset('boat.n.01')"
   ]
  },
  {
   "cell_type": "code",
   "execution_count": 75,
   "id": "fd06541b",
   "metadata": {},
   "outputs": [
    {
     "data": {
      "text/plain": [
       "0.9090909090909091"
      ]
     },
     "execution_count": 75,
     "metadata": {},
     "output_type": "execute_result"
    }
   ],
   "source": [
    "w1.wup_similarity(w2)"
   ]
  },
  {
   "cell_type": "code",
   "execution_count": 76,
   "id": "4eb272ce",
   "metadata": {},
   "outputs": [],
   "source": [
    "w1=wordnet.synset('ship.n.01')\n",
    "w2=wordnet.synset('cat.n.01')"
   ]
  },
  {
   "cell_type": "code",
   "execution_count": 77,
   "id": "d297b05f",
   "metadata": {},
   "outputs": [
    {
     "data": {
      "text/plain": [
       "0.32"
      ]
     },
     "execution_count": 77,
     "metadata": {},
     "output_type": "execute_result"
    }
   ],
   "source": [
    "w1.wup_similarity(w2)"
   ]
  },
  {
   "cell_type": "code",
   "execution_count": null,
   "id": "7fc312a3",
   "metadata": {},
   "outputs": [],
   "source": []
  }
 ],
 "metadata": {
  "kernelspec": {
   "display_name": "Python 3 (ipykernel)",
   "language": "python",
   "name": "python3"
  },
  "language_info": {
   "codemirror_mode": {
    "name": "ipython",
    "version": 3
   },
   "file_extension": ".py",
   "mimetype": "text/x-python",
   "name": "python",
   "nbconvert_exporter": "python",
   "pygments_lexer": "ipython3",
   "version": "3.10.6"
  }
 },
 "nbformat": 4,
 "nbformat_minor": 5
}
